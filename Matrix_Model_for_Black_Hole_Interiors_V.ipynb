{
  "nbformat": 4,
  "nbformat_minor": 0,
  "metadata": {
    "colab": {
      "provenance": [],
      "authorship_tag": "ABX9TyOFJXAgqIaKABXbiMdWUMev",
      "include_colab_link": true
    },
    "kernelspec": {
      "name": "python3",
      "display_name": "Python 3"
    },
    "language_info": {
      "name": "python"
    }
  },
  "cells": [
    {
      "cell_type": "markdown",
      "metadata": {
        "id": "view-in-github",
        "colab_type": "text"
      },
      "source": [
        "<a href=\"https://colab.research.google.com/github/mortonsguide/axis-model-suite/blob/main/Matrix_Model_for_Black_Hole_Interiors_V.ipynb\" target=\"_parent\"><img src=\"https://colab.research.google.com/assets/colab-badge.svg\" alt=\"Open In Colab\"/></a>"
      ]
    },
    {
      "cell_type": "code",
      "source": [
        "import numpy as np\n",
        "import pandas as pd\n",
        "\n",
        "class MortonCore:\n",
        "    \"\"\"\n",
        "    Models a compact object using Axis Model scalar–vector parameters.\n",
        "    \"\"\"\n",
        "    def __init__(self, qx_bound=0, qz_bound=0, qz_unbound=0, phi_scalar=0.3):\n",
        "        self.qx = qx_bound                      # Bound x-vectors (EM structure)\n",
        "        self.qz_b = qz_bound                    # Bound z-vectors (mass)\n",
        "        self.qz_u = qz_unbound                  # Unbound z-vectors (curvature)\n",
        "        self.phi = phi_scalar                   # Scalar field strength\n",
        "\n",
        "    def gravitational_strength(self):\n",
        "        return self.qz_u / (self.qx + 1e-6)\n",
        "\n",
        "    def stability_score(self):\n",
        "        return self.phi * (self.qx / (self.qz_b + 1e-6))\n",
        "\n",
        "    def compactness_index(self):\n",
        "        return np.log1p(self.qz_u) / (1 + self.phi)\n",
        "\n",
        "    def maszl_signature(self):\n",
        "        return {\n",
        "            \"Stability Score\": round(self.stability_score(), 3),\n",
        "            \"Effective Gravity\": round(self.gravitational_strength(), 3),\n",
        "            \"Compactness Index\": round(self.compactness_index(), 3),\n",
        "            \"qz_u:qz_b ratio\": round(self.qz_u / (self.qz_b + 1e-6), 3)\n",
        "        }\n",
        "\n",
        "# === Example Systems Consistent with Appendix Z ===\n",
        "electron = MortonCore(qx_bound=2, qz_bound=1, qz_unbound=0, phi_scalar=0.3)\n",
        "neutron_star = MortonCore(qx_bound=10, qz_bound=10, qz_unbound=5, phi_scalar=0.3)\n",
        "m87_star = MortonCore(qx_bound=2, qz_bound=15, qz_unbound=27, phi_scalar=0.5)\n",
        "sgr_a_star = MortonCore(qx_bound=5, qz_bound=20, qz_unbound=22, phi_scalar=0.5)\n",
        "\n",
        "# === Generate Output Table ===\n",
        "objects = {\n",
        "    \"Electron\": electron.maszl_signature(),\n",
        "    \"Neutron Star\": neutron_star.maszl_signature(),\n",
        "    \"M87*\": m87_star.maszl_signature(),\n",
        "    \"Sgr A*\": sgr_a_star.maszl_signature()\n",
        "}\n",
        "\n",
        "# Display as DataFrame\n",
        "df = pd.DataFrame(objects).T\n",
        "print(df)\n",
        "\n"
      ],
      "metadata": {
        "colab": {
          "base_uri": "https://localhost:8080/"
        },
        "id": "v5uCKLMU8NDT",
        "outputId": "3af08413-d1a6-4e45-f62e-9093646de2d3"
      },
      "execution_count": null,
      "outputs": [
        {
          "output_type": "stream",
          "name": "stdout",
          "text": [
            "              Stability Score  Effective Gravity  Compactness Index  \\\n",
            "Electron                0.600                0.0              0.000   \n",
            "Neutron Star            0.300                0.5              1.378   \n",
            "M87*                    0.067               13.5              2.221   \n",
            "Sgr A*                  0.125                4.4              2.090   \n",
            "\n",
            "              qz_u:qz_b ratio  \n",
            "Electron                  0.0  \n",
            "Neutron Star              0.5  \n",
            "M87*                      1.8  \n",
            "Sgr A*                    1.1  \n"
          ]
        }
      ]
    }
  ]
}